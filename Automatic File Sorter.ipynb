{
 "cells": [
  {
   "cell_type": "code",
   "execution_count": 30,
   "id": "00ca35be",
   "metadata": {},
   "outputs": [],
   "source": [
    "import os\n",
    "import shutil"
   ]
  },
  {
   "cell_type": "code",
   "execution_count": 31,
   "id": "61db108b",
   "metadata": {},
   "outputs": [],
   "source": [
    "# Define the directories you want to create and the file extensions you want to sort\n",
    "directories = {\n",
    "    'csv': ['.csv'],\n",
    "    'jpg': ['.jpg', '.jpeg', '.png', '.gif'],\n",
    "    'xls': ['.xls', '.xlsx'],\n",
    "    'doc': ['.doc', '.docx'],\n",
    "}"
   ]
  },
  {
   "cell_type": "code",
   "execution_count": 29,
   "id": "e8ba6a26",
   "metadata": {},
   "outputs": [],
   "source": [
    "# Define the directory where you want to search for files to sort\n",
    "search_dir = 'C:/Users/Lumii/Desktop/PythonTest/'\n",
    "\n",
    "# Loop through all the files in the search directory\n",
    "for filename in os.listdir(search_dir):\n",
    "    # Get the file extension\n",
    "    ext = os.path.splitext(filename)[-1].lower()\n",
    "    # Loop through the directories dictionary\n",
    "    for dirname, dir_exts in directories.items():\n",
    "        # If the file extension matches any of the directory extensions, move the file to that directory\n",
    "        if ext in dir_exts:\n",
    "            src_path = os.path.join(search_dir, filename)\n",
    "            dest_dir = os.path.join(search_dir, dirname)\n",
    "            if not os.path.exists(dest_dir):\n",
    "                os.mkdir(dest_dir)\n",
    "            dest_path = os.path.join(dest_dir, filename)\n",
    "            shutil.move(src_path, dest_path)\n"
   ]
  },
  {
   "cell_type": "code",
   "execution_count": null,
   "id": "ce67bd1c",
   "metadata": {},
   "outputs": [],
   "source": []
  },
  {
   "cell_type": "code",
   "execution_count": null,
   "id": "84b45912",
   "metadata": {},
   "outputs": [],
   "source": []
  }
 ],
 "metadata": {
  "kernelspec": {
   "display_name": "Python 3 (ipykernel)",
   "language": "python",
   "name": "python3"
  },
  "language_info": {
   "codemirror_mode": {
    "name": "ipython",
    "version": 3
   },
   "file_extension": ".py",
   "mimetype": "text/x-python",
   "name": "python",
   "nbconvert_exporter": "python",
   "pygments_lexer": "ipython3",
   "version": "3.10.9"
  }
 },
 "nbformat": 4,
 "nbformat_minor": 5
}
